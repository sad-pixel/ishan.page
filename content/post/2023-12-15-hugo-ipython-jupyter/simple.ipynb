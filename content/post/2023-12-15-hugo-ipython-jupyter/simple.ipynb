{
 "cells": [
  {
   "attachments": {},
   "cell_type": "markdown",
   "metadata": {},
   "source": [
    "## This Is A Jupyter Notebook\n",
    "It has a markdown starting section, that's quite neat!   \n",
    "Let's try to create a Python code block next:"
   ]
  },
  {
   "cell_type": "code",
   "execution_count": 26,
   "metadata": {},
   "outputs": [
    {
     "data": {
      "text/plain": [
       "4"
      ]
     },
     "execution_count": 26,
     "metadata": {},
     "output_type": "execute_result"
    }
   ],
   "source": [
    "2 + 2"
   ]
  },
  {
   "attachments": {},
   "cell_type": "markdown",
   "metadata": {},
   "source": [
    "Alright, that seems to have gone well! Note how this second section is sandwiched in the middle of two code blocks.\n",
    "\n",
    "The next code block uses `print` to send the output. The reason for this will be important later!"
   ]
  },
  {
   "cell_type": "code",
   "execution_count": 27,
   "metadata": {},
   "outputs": [
    {
     "name": "stdout",
     "output_type": "stream",
     "text": [
      "This is a message!\n"
     ]
    }
   ],
   "source": [
    "print(\"This is a message!\")"
   ]
  },
  {
   "attachments": {},
   "cell_type": "markdown",
   "metadata": {},
   "source": [
    "## Thinking about Options\n",
    "Let's take a moment and evaluate:\n",
    "1. Hugo [Page Resources](https://gohugo.io/content-management/page-resources/) can be used to attach a resource to a post\n",
    "2. A Jupyter Notebook is actually just a JSON file. \n",
    "3. Cursory googling shows people trying various options, including rendering:\n",
    "    - [hugo_jupyter](https://pypi.org/project/hugo_jupyter/) - Turns \"notebook\" into it's own type of post. Frontmatter goes inside notebooks\n",
    "    - [nb2hugo](https://github.com/vlunot/nb2hugo) - Similiar approach as above\n",
    "    - [Hugo Blox](https://docs.hugoblox.com/tutorial/blog/step-4/) - Some custom themes take the same approach above\n",
    "    - [Forum Topic discussing Jupyter Support](https://discourse.gohugo.io/t/ipython-notebook-support/3211)\n",
    "    - [Skeptric on the nb2hugo workflow](https://skeptric.com/jupyter-hugo-blog/)\n",
    "\n",
    "## Looking Inside Notebooks\n",
    "Let's take a look inside **this** notebook itself. Since it's a JSON file, we can use `jq` and the `keys` function to start exploring:"
   ]
  },
  {
   "cell_type": "code",
   "execution_count": 28,
   "metadata": {},
   "outputs": [
    {
     "name": "stdout",
     "output_type": "stream",
     "text": [
      "[\n",
      "  \"cells\",\n",
      "  \"metadata\",\n",
      "  \"nbformat\",\n",
      "  \"nbformat_minor\"\n",
      "]\n"
     ]
    }
   ],
   "source": [
    "!jq -M 'keys' simple.ipynb"
   ]
  },
  {
   "attachments": {},
   "cell_type": "markdown",
   "metadata": {},
   "source": [
    "Remember how I mentioned that the fact I used `print` will be relevant later? It's coming soon. I promise. Let's take a look at the first 4 cells of the notebook:"
   ]
  },
  {
   "cell_type": "code",
   "execution_count": 30,
   "metadata": {},
   "outputs": [
    {
     "name": "stdout",
     "output_type": "stream",
     "text": [
      "[\n",
      "  {\n",
      "    \"attachments\": {},\n",
      "    \"cell_type\": \"markdown\",\n",
      "    \"metadata\": {},\n",
      "    \"source\": [\n",
      "      \"## This Is An Example Jupyter Notebook\\n\",\n",
      "      \"It has a markdown starting section, that's quite neat!   \\n\",\n",
      "      \"Let's try to create a Python code block next:\"\n",
      "    ]\n",
      "  },\n",
      "  {\n",
      "    \"cell_type\": \"code\",\n",
      "    \"execution_count\": 26,\n",
      "    \"metadata\": {},\n",
      "    \"outputs\": [\n",
      "      {\n",
      "        \"data\": {\n",
      "          \"text/plain\": [\n",
      "            \"4\"\n",
      "          ]\n",
      "        },\n",
      "        \"execution_count\": 26,\n",
      "        \"metadata\": {},\n",
      "        \"output_type\": \"execute_result\"\n",
      "      }\n",
      "    ],\n",
      "    \"source\": [\n",
      "      \"2 + 2\"\n",
      "    ]\n",
      "  },\n",
      "  {\n",
      "    \"attachments\": {},\n",
      "    \"cell_type\": \"markdown\",\n",
      "    \"metadata\": {},\n",
      "    \"source\": [\n",
      "      \"Alright, that seems to have gone well! Note how this second section is sandwiched in the middle of two code blocks.\\n\",\n",
      "      \"\\n\",\n",
      "      \"The next code block uses `print` to send the output. The reason for this will be important later!\"\n",
      "    ]\n",
      "  },\n",
      "  {\n",
      "    \"cell_type\": \"code\",\n",
      "    \"execution_count\": 27,\n",
      "    \"metadata\": {},\n",
      "    \"outputs\": [\n",
      "      {\n",
      "        \"name\": \"stdout\",\n",
      "        \"output_type\": \"stream\",\n",
      "        \"text\": [\n",
      "          \"This is a message!\\n\"\n",
      "        ]\n",
      "      }\n",
      "    ],\n",
      "    \"source\": [\n",
      "      \"print(\\\"This is a message!\\\")\"\n",
      "    ]\n",
      "  }\n",
      "]\n"
     ]
    }
   ],
   "source": [
    "!jq -M '.cells[:4]' simple.ipynb"
   ]
  },
  {
   "attachments": {},
   "cell_type": "markdown",
   "metadata": {},
   "source": [
    "**Observations**   \n",
    "- Every object has a `cell_type` which is either `markdown` or `code`\n",
    "    - All cells have a `source`. Source is as array of strings containing the cell's source code line by line.\n",
    "    - Cells which have been executed have an `outputs`\n",
    "- While `outputs` is always an array, the contents differ:\n",
    "    - When it's a normal Python evaluation, the `output_type` is `execution_result`.   \n",
    "    In this case, we have to get the data from the `outputs[].data` which is a object containing keys corresponding to the mime type and value as an array containing the values.\n",
    "    - When it's using `print`, the `output_type` is `stream`.   \n",
    "    In this case, the `outputs[].text` is the array of strings we are interested in.\n",
    "\n",
    "## But What About Images?\n",
    "Fair point! We haven't encountered any in this notebook yet. Let's change that by copying in one of the [matplotlib examples](https://matplotlib.org/stable/gallery/lines_bars_and_markers/bar_colors.html#sphx-glr-gallery-lines-bars-and-markers-bar-colors-py):"
   ]
  },
  {
   "cell_type": "code",
   "execution_count": 45,
   "metadata": {},
   "outputs": [
    {
     "data": {
      "image/png": "[encoded data removed]",
      "text/plain": [
       "<Figure size 432x288 with 1 Axes>"
      ]
     },
     "metadata": {
      "needs_background": "light"
     },
     "output_type": "display_data"
    }
   ],
   "source": [
    "import matplotlib.pyplot as plt\n",
    "\n",
    "fig, ax = plt.subplots()\n",
    "\n",
    "fruits = ['apple', 'blueberry', 'cherry', 'orange']\n",
    "counts = [40, 100, 30, 55]\n",
    "bar_labels = ['red', 'blue', '_red', 'orange']\n",
    "bar_colors = ['tab:red', 'tab:blue', 'tab:red', 'tab:orange']\n",
    "\n",
    "ax.bar(fruits, counts, label=bar_labels, color=bar_colors)\n",
    "\n",
    "ax.set_ylabel('fruit supply')\n",
    "ax.set_title('Fruit supply by kind and color')\n",
    "ax.legend(title='Fruit color')\n",
    "\n",
    "plt.show()"
   ]
  },
  {
   "attachments": {},
   "cell_type": "markdown",
   "metadata": {},
   "source": [
    "Let's take a look inside this last cell:"
   ]
  },
  {
   "cell_type": "code",
   "execution_count": 48,
   "metadata": {},
   "outputs": [
    {
     "name": "stdout",
     "output_type": "stream",
     "text": [
      "[\n",
      "  \"image/png\",\n",
      "  \"text/plain\"\n",
      "]\n"
     ]
    }
   ],
   "source": [
    "!jq -M '.cells[-3].outputs[].data | keys' simple.ipynb"
   ]
  },
  {
   "attachments": {},
   "cell_type": "markdown",
   "metadata": {},
   "source": [
    "Let's take a look at what's inside the image:"
   ]
  },
  {
   "cell_type": "code",
   "execution_count": 49,
   "metadata": {},
   "outputs": [
    {
     "name": "stdout",
     "output_type": "stream",
     "text": [
      "\"iVBORw0KGgoAAAANSUhEUgAAAYUAAAEI\"\n"
     ]
    }
   ],
   "source": [
    "!jq -M '.cells[-3].outputs[].data[\"image/png\"][:32]' simple.ipynb"
   ]
  },
  {
   "attachments": {},
   "cell_type": "markdown",
   "metadata": {},
   "source": [
    "It's a base64 encoded png! That makes our life easier. \n",
    "\n",
    "Now, with all the observations so far, we now have enough information to create the shortcode\n",
    "\n",
    "## The `ipynb` Shortcode\n",
    "### Why a Shortcode?\n",
    "Most of the previous approaches use layouts, but I have gone with a shortcode instead. Using this approach lets me keep the frontmatter in my post markdown file.\n",
    "\n",
    "The main benefit of this is that I can have multiple notebooks inside a post if I want. \n",
    "\n",
    "### Copy Me! \n",
    "The below code goes in `layouts/shortcodes/ipynb.html`\n",
    "\n",
    "    {{ $notebook := .Get 0 }}\n",
    "    {{ range .Page.Resources.Match $notebook }} \n",
    "    <a href=\"{{.RelPermalink}}\" download>🗒️ Download ({{ $notebook }})</a>\n",
    "    {{ $content := .Content | transform.Unmarshal }}\n",
    "    {{ $cells := $content.cells }}\n",
    "    {{ range $cells }}\n",
    "    <!-- For Markdown Cells -->\n",
    "    {{ if eq .cell_type \"markdown\" }}\n",
    "    {{ range .source }}{{ . | safeHTML }}{{ end }}\n",
    "    {{ end }}\n",
    "\n",
    "    <!-- For Code Cells -->\n",
    "    {{ if eq .cell_type \"code\" }}\n",
    "    ```python\n",
    "    {{ range .source }}{{ . | safeHTML }}{{ end }}\n",
    "    ```\n",
    "    {{ if gt (len .outputs) 0 }}\n",
    "    Output:\n",
    "    {{ range .outputs }}\n",
    "    {{ if .text }}\n",
    "    ```\n",
    "    {{ range .text }}{{ . | safeHTML}}{{ end }}\n",
    "    ```\n",
    "    {{ end }}\n",
    "    {{ range $type, $data := .data }}\n",
    "    {{ if strings.Contains $type \"image\" }}<img src=\"data:{{ $type }};base64,{{ $data | safeHTML }}\">{{ end }}\n",
    "    {{ if strings.Contains $type \"text\" }}\n",
    "    ```\n",
    "    {{ range $data }}{{ . | safeHTML }}{{ end }}\n",
    "    ```\n",
    "    {{ end }}{{ end }}{{ end }}{{ end }}{{ end }}{{ end }}{{ end }}\n",
    "### How does it work?\n",
    "This Hugo shortcode is designed to embed a Jupyter notebook into a Hugo website by parsing and displaying its content. It processes the Jupyter notebook content, separating Markdown and Code cells, rendering them accordingly on the Hugo page. It also handles outputs generated by code cells within the notebook.\n",
    "\n",
    "Let's try to break down how it works:\n",
    "- `{{ $notebook := .Get 0 }}`: This line gets the parameter passed to the shortcode.\n",
    "- `{{ range .Page.Resources.Match $notebook }}`: This initiates a loop over the resources associated with the current page that match the provided notebook name.\n",
    "- `<a href=\"{{.RelPermalink}}\" download>🗒️ Download ({{ $notebook }})</a>`: This generates a download link for the notebook file. The `.RelPermalink` is the relative path to the notebook file.\n",
    "- `{{ $content := .Content | transform.Unmarshal }}`: This extracts the content of the notebook and stores it in the `$content` variable.\n",
    "- `{{ $cells := $content.cells }}`: This extracts the cells (sections) of the notebook and stores them in the `$cells` variable.\n",
    "- `{{ if eq .cell_type \"markdown\" }}`: This checks if a cell is of type \"markdown.\"\n",
    "- `{{ range .source }}{{ . | safeHTML }}{{ end }}`: If the cell is a markdown type, it iterates through its content and renders it as HTML using `safeHTML`.\n",
    "- `{{ if eq .cell_type \"code\" }}`: This checks if a cell is of type \"code.\"\n",
    "- ```python ... ```: This wraps code cells in a Python code block for display.\n",
    "- `{{ range .source }}{{ . | safeHTML }}{{ end }}`: Renders the content of the code cell as HTML using `safeHTML`.\n",
    "- `{{ if gt (len .outputs) 0 }}`: Checks if the code cell has any outputs.\n",
    "- Renders outputs:\n",
    "    - Text Outputs: Renders text outputs of the code cell.\n",
    "    - Image Outputs: Renders image outputs encoded in base64 format.\n",
    "    - Other Outputs: Handles other types of outputs (text or image) based on their data.\n",
    "\n",
    "## Limitations and Closing Thoughts\n",
    "- While the shortcode attempts to render Markdown and Code cells, it might not cover all possible cell types or formatting nuances within a Jupyter notebook. \n",
    "- Inline embedded images may be bad for performance as they aren't being lazy loaded\n",
    "- This approach skips over a lot of the extra features which Jupyter notebooks have. I couldn't even tell you what they are because I don't know myself!\n",
    "- While this is perfect for my workflow, and I'm excited by how much easier it makes for me to get more posts out by removing friction, I recognize that this shortcode/approach may not be for everyone. \n",
    "- There is [official documentation](https://ipython.org/ipython-doc/3/notebook/nbformat.html) for the .ipynb format, but I didn't really look at it. Someday in the future I might have to do that.\n",
    "\n",
    "I hope you enjoyed reading this post. Have you experienced similiar things about the importance of removing friction in your workflow? Do you have any stories of things you automated to that end? [Tell me all about it!](mailto:hello@ishan.page)\n",
    "\n",
    "***\n",
    "> I've finally started a newsletter for those who wanted to receive updates over email.    \n",
    "> You can subscribe below, or [check out the first issue here](/newsletters/00001-hello-world/)"
   ]
  }
 ],
 "metadata": {
  "kernelspec": {
   "display_name": "Python 3",
   "language": "python",
   "name": "python3"
  },
  "language_info": {
   "codemirror_mode": {
    "name": "ipython",
    "version": 3
   },
   "file_extension": ".py",
   "mimetype": "text/x-python",
   "name": "python",
   "nbconvert_exporter": "python",
   "pygments_lexer": "ipython3",
   "version": "3.10.6"
  },
  "orig_nbformat": 4
 },
 "nbformat": 4,
 "nbformat_minor": 2
}
